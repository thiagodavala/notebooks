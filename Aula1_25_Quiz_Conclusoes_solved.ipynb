{
 "cells": [
  {
   "cell_type": "markdown",
   "metadata": {},
   "source": [
    "# Drawing Conclusions Quiz\n",
    "Use the space below to explore `store_data.csv` to answer the quiz questions below."
   ]
  },
  {
   "cell_type": "code",
   "execution_count": 1,
   "metadata": {},
   "outputs": [],
   "source": [
    "# imports and load data\n",
    "import pandas as pd\n",
    "df_store = pd.read_csv(\"store_data.csv\")\n"
   ]
  },
  {
   "cell_type": "code",
   "execution_count": 2,
   "metadata": {},
   "outputs": [
    {
     "name": "stdout",
     "output_type": "stream",
     "text": [
      "             storeA        storeB       storeC       storeD       storeE\n",
      "count    200.000000    200.000000   200.000000   200.000000   200.000000\n",
      "mean    5865.480000   6756.710000  4942.105000  5431.405000  2580.025000\n",
      "std     2958.230318   3601.339489  1325.407768  1183.111323  1725.651381\n",
      "min      137.000000     14.000000   927.000000  2276.000000    39.000000\n",
      "25%     3812.250000   3884.500000  4053.500000  4717.000000  1235.000000\n",
      "50%     5713.500000   6771.000000  4962.500000  5382.000000  2522.000000\n",
      "75%     7662.250000   9350.500000  5801.750000  6243.750000  3574.250000\n",
      "max    14403.000000  15841.000000  8293.000000  8190.000000  7553.000000\n"
     ]
    }
   ],
   "source": [
    "# explore data\n",
    "describe = df_store.describe()\n",
    "print(describe)"
   ]
  },
  {
   "cell_type": "code",
   "execution_count": 3,
   "metadata": {},
   "outputs": [
    {
     "name": "stdout",
     "output_type": "stream",
     "text": [
      "199    2018-02-25\n",
      "Name: week, dtype: object\n"
     ]
    }
   ],
   "source": [
    "# último mês:\n",
    "print (df_store['week'].tail(1))\n"
   ]
  },
  {
   "cell_type": "code",
   "execution_count": 4,
   "metadata": {},
   "outputs": [
    {
     "name": "stdout",
     "output_type": "stream",
     "text": [
      "Loja com melhor resultado no último mês: storeA\n"
     ]
    }
   ],
   "source": [
    "# Loja com melhor resultado no último mês\n",
    "# Filtrando pelo período\n",
    "df_store['week']\n",
    "\n",
    "# Selecionamos o intervalo de tempo, somamos as colunas, \n",
    "#  excluimos a week da seleção e pegamos o índice com maior valor\n",
    "print(\"Loja com melhor resultado no último mês: {0}\".format(\n",
    "             df_store[(df_store['week'] > '2018-02-01') & \n",
    "             (df_store['week'] < '2018-03-01')].sum(axis=0)[1:].idxmax()))\n",
    "\n"
   ]
  },
  {
   "cell_type": "code",
   "execution_count": 5,
   "metadata": {},
   "outputs": [
    {
     "data": {
      "text/html": [
       "<div>\n",
       "<style>\n",
       "    .dataframe thead tr:only-child th {\n",
       "        text-align: right;\n",
       "    }\n",
       "\n",
       "    .dataframe thead th {\n",
       "        text-align: left;\n",
       "    }\n",
       "\n",
       "    .dataframe tbody tr th {\n",
       "        vertical-align: top;\n",
       "    }\n",
       "</style>\n",
       "<table border=\"1\" class=\"dataframe\">\n",
       "  <thead>\n",
       "    <tr style=\"text-align: right;\">\n",
       "      <th></th>\n",
       "      <th>storeA</th>\n",
       "      <th>storeB</th>\n",
       "      <th>storeC</th>\n",
       "      <th>storeD</th>\n",
       "      <th>storeE</th>\n",
       "    </tr>\n",
       "  </thead>\n",
       "  <tbody>\n",
       "    <tr>\n",
       "      <th>count</th>\n",
       "      <td>200.000000</td>\n",
       "      <td>200.000000</td>\n",
       "      <td>200.000000</td>\n",
       "      <td>200.000000</td>\n",
       "      <td>200.000000</td>\n",
       "    </tr>\n",
       "    <tr>\n",
       "      <th>mean</th>\n",
       "      <td>5865.480000</td>\n",
       "      <td>6756.710000</td>\n",
       "      <td>4942.105000</td>\n",
       "      <td>5431.405000</td>\n",
       "      <td>2580.025000</td>\n",
       "    </tr>\n",
       "    <tr>\n",
       "      <th>std</th>\n",
       "      <td>2958.230318</td>\n",
       "      <td>3601.339489</td>\n",
       "      <td>1325.407768</td>\n",
       "      <td>1183.111323</td>\n",
       "      <td>1725.651381</td>\n",
       "    </tr>\n",
       "    <tr>\n",
       "      <th>min</th>\n",
       "      <td>137.000000</td>\n",
       "      <td>14.000000</td>\n",
       "      <td>927.000000</td>\n",
       "      <td>2276.000000</td>\n",
       "      <td>39.000000</td>\n",
       "    </tr>\n",
       "    <tr>\n",
       "      <th>25%</th>\n",
       "      <td>3812.250000</td>\n",
       "      <td>3884.500000</td>\n",
       "      <td>4053.500000</td>\n",
       "      <td>4717.000000</td>\n",
       "      <td>1235.000000</td>\n",
       "    </tr>\n",
       "    <tr>\n",
       "      <th>50%</th>\n",
       "      <td>5713.500000</td>\n",
       "      <td>6771.000000</td>\n",
       "      <td>4962.500000</td>\n",
       "      <td>5382.000000</td>\n",
       "      <td>2522.000000</td>\n",
       "    </tr>\n",
       "    <tr>\n",
       "      <th>75%</th>\n",
       "      <td>7662.250000</td>\n",
       "      <td>9350.500000</td>\n",
       "      <td>5801.750000</td>\n",
       "      <td>6243.750000</td>\n",
       "      <td>3574.250000</td>\n",
       "    </tr>\n",
       "    <tr>\n",
       "      <th>max</th>\n",
       "      <td>14403.000000</td>\n",
       "      <td>15841.000000</td>\n",
       "      <td>8293.000000</td>\n",
       "      <td>8190.000000</td>\n",
       "      <td>7553.000000</td>\n",
       "    </tr>\n",
       "  </tbody>\n",
       "</table>\n",
       "</div>"
      ],
      "text/plain": [
       "             storeA        storeB       storeC       storeD       storeE\n",
       "count    200.000000    200.000000   200.000000   200.000000   200.000000\n",
       "mean    5865.480000   6756.710000  4942.105000  5431.405000  2580.025000\n",
       "std     2958.230318   3601.339489  1325.407768  1183.111323  1725.651381\n",
       "min      137.000000     14.000000   927.000000  2276.000000    39.000000\n",
       "25%     3812.250000   3884.500000  4053.500000  4717.000000  1235.000000\n",
       "50%     5713.500000   6771.000000  4962.500000  5382.000000  2522.000000\n",
       "75%     7662.250000   9350.500000  5801.750000  6243.750000  3574.250000\n",
       "max    14403.000000  15841.000000  8293.000000  8190.000000  7553.000000"
      ]
     },
     "execution_count": 5,
     "metadata": {},
     "output_type": "execute_result"
    }
   ],
   "source": [
    "# average sales\n",
    "describe"
   ]
  },
  {
   "cell_type": "code",
   "execution_count": 6,
   "metadata": {},
   "outputs": [
    {
     "name": "stdout",
     "output_type": "stream",
     "text": [
      "Loja que mais vendeu durante a semana de 13 de março de 2016: storeD\n"
     ]
    }
   ],
   "source": [
    "# Qual loja vendeu mais durante a semana de 13 de março de 2016?\n",
    "print(\"Loja que mais vendeu durante a semana de 13 de março de 2016: {0}\".format(\n",
    "            df_store[(df_store['week'] > '2016-03-12') & \n",
    "             (df_store['week'] < '2016-03-21')].sum(axis=0)[1:].idxmax()))"
   ]
  },
  {
   "cell_type": "code",
   "execution_count": 7,
   "metadata": {},
   "outputs": [
    {
     "name": "stdout",
     "output_type": "stream",
     "text": [
      "A loja C tem o pior resultado de vendas na semana: 2014-07-06\n"
     ]
    }
   ],
   "source": [
    "# Em qual semana a loja C tem o pior resultado de vendas?\n",
    "print(\"A loja C tem o pior resultado de vendas na semana: {0}\".format(\n",
    "        df_store.iloc[df_store['storeC'].idxmin()]['week']))\n"
   ]
  },
  {
   "cell_type": "code",
   "execution_count": 8,
   "metadata": {},
   "outputs": [
    {
     "name": "stdout",
     "output_type": "stream",
     "text": [
      "A loja que mais vendeu nos últimos 3 meses foi:storeA\n"
     ]
    }
   ],
   "source": [
    "# Qual vendeu mais nos últimos três meses?\n",
    "\n",
    "# Podemos ver os últimos 3 meses vendo as últimas linhas\n",
    "last_period = df_store.tail(1)\n",
    "\n",
    "# Porém, para treinarmos vamos calcular esses meses\n",
    "# Primeiro precisamos converter a string para datetime\n",
    "df_store['week'] = pd.to_datetime(df_store['week'] )\n",
    "\n",
    "# Vamos calcular quais são os últimos 3 meses\n",
    "period_start = df_store['week'].max() -  pd.DateOffset(months=3)\n",
    "period_end = df_store['week'].max()\n",
    "\n",
    "print(\"A loja que mais vendeu nos últimos 3 meses foi:{0}\".format(\n",
    "       df_store[(df_store['week'] >= period_start) & \n",
    "             (df_store['week'] <= period_end)].sum(axis=0).idxmax()))"
   ]
  },
  {
   "cell_type": "code",
   "execution_count": null,
   "metadata": {},
   "outputs": [],
   "source": []
  }
 ],
 "metadata": {
  "kernelspec": {
   "display_name": "Python 3",
   "language": "python",
   "name": "python3"
  },
  "language_info": {
   "codemirror_mode": {
    "name": "ipython",
    "version": 3
   },
   "file_extension": ".py",
   "mimetype": "text/x-python",
   "name": "python",
   "nbconvert_exporter": "python",
   "pygments_lexer": "ipython3",
   "version": "3.6.3"
  }
 },
 "nbformat": 4,
 "nbformat_minor": 2
}
