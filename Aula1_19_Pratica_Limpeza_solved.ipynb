{
 "cells": [
  {
   "cell_type": "markdown",
   "metadata": {},
   "source": [
    "# Prática de limpeza\n",
    "Vamos começar praticando como lidar com valores ausentes ou dados duplicados com `cancer_data_means.csv`."
   ]
  },
  {
   "cell_type": "code",
   "execution_count": 1,
   "metadata": {},
   "outputs": [
    {
     "name": "stdout",
     "output_type": "stream",
     "text": [
      "<class 'pandas.core.frame.DataFrame'>\n",
      "RangeIndex: 569 entries, 0 to 568\n",
      "Data columns (total 11 columns):\n",
      "id                     569 non-null int64\n",
      "diagnosis              569 non-null object\n",
      "radius_mean            569 non-null float64\n",
      "texture_mean           548 non-null float64\n",
      "perimeter_mean         569 non-null float64\n",
      "area_mean              569 non-null float64\n",
      "smoothness_mean        521 non-null float64\n",
      "compactness_mean       569 non-null float64\n",
      "concavity_mean         569 non-null float64\n",
      "concave_points_mean    569 non-null float64\n",
      "symmetry_mean          504 non-null float64\n",
      "dtypes: float64(9), int64(1), object(1)\n",
      "memory usage: 49.0+ KB\n"
     ]
    }
   ],
   "source": [
    "# importe pandas e carregue dados sobre cancer\n",
    "import pandas as pd\n",
    "df_cancer = pd.read_csv(\"cancer_data_means.csv\")\n",
    "\n",
    "# verifique que colunas têm valores ausentes com info()\n",
    "df_cancer.info()"
   ]
  },
  {
   "cell_type": "code",
   "execution_count": 4,
   "metadata": {},
   "outputs": [
    {
     "name": "stdout",
     "output_type": "stream",
     "text": [
      "<class 'pandas.core.frame.DataFrame'>\n",
      "RangeIndex: 569 entries, 0 to 568\n",
      "Data columns (total 11 columns):\n",
      "id                     569 non-null int64\n",
      "diagnosis              569 non-null object\n",
      "radius_mean            569 non-null float64\n",
      "texture_mean           569 non-null float64\n",
      "perimeter_mean         569 non-null float64\n",
      "area_mean              569 non-null float64\n",
      "smoothness_mean        569 non-null float64\n",
      "compactness_mean       569 non-null float64\n",
      "concavity_mean         569 non-null float64\n",
      "concave_points_mean    569 non-null float64\n",
      "symmetry_mean          569 non-null float64\n",
      "dtypes: float64(9), int64(1), object(1)\n",
      "memory usage: 49.0+ KB\n"
     ]
    }
   ],
   "source": [
    "# use médias para preencher valores ausentes\n",
    "df_cancer['texture_mean'].fillna(df_cancer['texture_mean'].mean(), inplace=True)\n",
    "df_cancer['smoothness_mean'].fillna(df_cancer['smoothness_mean'].mean(), inplace=True)\n",
    "df_cancer['symmetry_mean'].fillna(df_cancer['symmetry_mean'].mean(), inplace=True)\n",
    "# confirme sua correção com info()\n",
    "df_cancer.info()"
   ]
  },
  {
   "cell_type": "code",
   "execution_count": 23,
   "metadata": {},
   "outputs": [
    {
     "name": "stdout",
     "output_type": "stream",
     "text": [
      "Possui 5 valores duplicados\n"
     ]
    }
   ],
   "source": [
    "# verifique se há dados duplicado\n",
    "# como reutilizaremos a verificação, vamos criar uma função para treinar\n",
    "def has_duplicate(df):\n",
    "    if df_cancer.duplicated().any():\n",
    "        print(\"Possui {0} valores duplicados\".format(df.duplicated().sum()))\n",
    "    else:\n",
    "        print(\"Não possui valores duplicados\")\n",
    "        \n",
    "has_duplicate(df_cancer)"
   ]
  },
  {
   "cell_type": "code",
   "execution_count": 26,
   "metadata": {},
   "outputs": [
    {
     "name": "stdout",
     "output_type": "stream",
     "text": [
      "Não possui valores duplicados\n"
     ]
    }
   ],
   "source": [
    "# elimine dados duplicados\n",
    "df_cancer.drop_duplicates(inplace=True)\n",
    "# confirme correção verificando novamente se há dados duplicados\n",
    "has_duplicate(df_cancer)"
   ]
  },
  {
   "cell_type": "markdown",
   "metadata": {},
   "source": [
    "## Renomeando colunas\n",
    "Já que também alteramos nosso conjunto de dados anteriormente para incluir apenas médias de características de tumores, o sufixo \"_mean\" ao final do nome de cada característica parece desnecessário. Isso só faz com que mais tempo seja gasto mais tarde, na digitação da nossa análise. Vamos criar uma lista de novos rótulos para atribuir às nossas colunas."
   ]
  },
  {
   "cell_type": "code",
   "execution_count": 28,
   "metadata": {},
   "outputs": [
    {
     "data": {
      "text/plain": [
       "['id',\n",
       " 'diagnosis',\n",
       " 'radius',\n",
       " 'texture',\n",
       " 'perimeter',\n",
       " 'area',\n",
       " 'smoothness',\n",
       " 'compactness',\n",
       " 'concavity',\n",
       " 'concave_points',\n",
       " 'symmetry']"
      ]
     },
     "execution_count": 28,
     "metadata": {},
     "output_type": "execute_result"
    }
   ],
   "source": [
    "# remova \"_mean\" dos nomes das colunas\n",
    "new_labels = []\n",
    "for col in df_cancer.columns:\n",
    "    if '_mean' in col:\n",
    "        new_labels.append(col[:-5])  # exclua os últimos 6 caracteres\n",
    "    else:\n",
    "        new_labels.append(col)\n",
    "\n",
    "# novos rótulos para nossas colunas\n",
    "new_labels"
   ]
  },
  {
   "cell_type": "code",
   "execution_count": 30,
   "metadata": {},
   "outputs": [
    {
     "data": {
      "text/html": [
       "<div>\n",
       "<style>\n",
       "    .dataframe thead tr:only-child th {\n",
       "        text-align: right;\n",
       "    }\n",
       "\n",
       "    .dataframe thead th {\n",
       "        text-align: left;\n",
       "    }\n",
       "\n",
       "    .dataframe tbody tr th {\n",
       "        vertical-align: top;\n",
       "    }\n",
       "</style>\n",
       "<table border=\"1\" class=\"dataframe\">\n",
       "  <thead>\n",
       "    <tr style=\"text-align: right;\">\n",
       "      <th></th>\n",
       "      <th>id</th>\n",
       "      <th>diagnosis</th>\n",
       "      <th>radius</th>\n",
       "      <th>texture</th>\n",
       "      <th>perimeter</th>\n",
       "      <th>area</th>\n",
       "      <th>smoothness</th>\n",
       "      <th>compactness</th>\n",
       "      <th>concavity</th>\n",
       "      <th>concave_points</th>\n",
       "      <th>symmetry</th>\n",
       "    </tr>\n",
       "  </thead>\n",
       "  <tbody>\n",
       "    <tr>\n",
       "      <th>0</th>\n",
       "      <td>842302</td>\n",
       "      <td>M</td>\n",
       "      <td>17.99</td>\n",
       "      <td>19.293431</td>\n",
       "      <td>122.80</td>\n",
       "      <td>1001.0</td>\n",
       "      <td>0.118400</td>\n",
       "      <td>0.27760</td>\n",
       "      <td>0.3001</td>\n",
       "      <td>0.14710</td>\n",
       "      <td>0.2419</td>\n",
       "    </tr>\n",
       "    <tr>\n",
       "      <th>1</th>\n",
       "      <td>842517</td>\n",
       "      <td>M</td>\n",
       "      <td>20.57</td>\n",
       "      <td>17.770000</td>\n",
       "      <td>132.90</td>\n",
       "      <td>1326.0</td>\n",
       "      <td>0.084740</td>\n",
       "      <td>0.07864</td>\n",
       "      <td>0.0869</td>\n",
       "      <td>0.07017</td>\n",
       "      <td>0.1812</td>\n",
       "    </tr>\n",
       "    <tr>\n",
       "      <th>2</th>\n",
       "      <td>84300903</td>\n",
       "      <td>M</td>\n",
       "      <td>19.69</td>\n",
       "      <td>21.250000</td>\n",
       "      <td>130.00</td>\n",
       "      <td>1203.0</td>\n",
       "      <td>0.109600</td>\n",
       "      <td>0.15990</td>\n",
       "      <td>0.1974</td>\n",
       "      <td>0.12790</td>\n",
       "      <td>0.2069</td>\n",
       "    </tr>\n",
       "    <tr>\n",
       "      <th>3</th>\n",
       "      <td>84348301</td>\n",
       "      <td>M</td>\n",
       "      <td>11.42</td>\n",
       "      <td>20.380000</td>\n",
       "      <td>77.58</td>\n",
       "      <td>386.1</td>\n",
       "      <td>0.096087</td>\n",
       "      <td>0.28390</td>\n",
       "      <td>0.2414</td>\n",
       "      <td>0.10520</td>\n",
       "      <td>0.2597</td>\n",
       "    </tr>\n",
       "    <tr>\n",
       "      <th>4</th>\n",
       "      <td>84358402</td>\n",
       "      <td>M</td>\n",
       "      <td>20.29</td>\n",
       "      <td>14.340000</td>\n",
       "      <td>135.10</td>\n",
       "      <td>1297.0</td>\n",
       "      <td>0.100300</td>\n",
       "      <td>0.13280</td>\n",
       "      <td>0.1980</td>\n",
       "      <td>0.10430</td>\n",
       "      <td>0.1809</td>\n",
       "    </tr>\n",
       "  </tbody>\n",
       "</table>\n",
       "</div>"
      ],
      "text/plain": [
       "         id diagnosis  radius    texture  perimeter    area  smoothness  \\\n",
       "0    842302         M   17.99  19.293431     122.80  1001.0    0.118400   \n",
       "1    842517         M   20.57  17.770000     132.90  1326.0    0.084740   \n",
       "2  84300903         M   19.69  21.250000     130.00  1203.0    0.109600   \n",
       "3  84348301         M   11.42  20.380000      77.58   386.1    0.096087   \n",
       "4  84358402         M   20.29  14.340000     135.10  1297.0    0.100300   \n",
       "\n",
       "   compactness  concavity  concave_points  symmetry  \n",
       "0      0.27760     0.3001         0.14710    0.2419  \n",
       "1      0.07864     0.0869         0.07017    0.1812  \n",
       "2      0.15990     0.1974         0.12790    0.2069  \n",
       "3      0.28390     0.2414         0.10520    0.2597  \n",
       "4      0.13280     0.1980         0.10430    0.1809  "
      ]
     },
     "execution_count": 30,
     "metadata": {},
     "output_type": "execute_result"
    }
   ],
   "source": [
    "# atribua novos rótulos às colunas do dataframe\n",
    "df_cancer.columns = new_labels\n",
    "\n",
    "# exiba as primeiras linhas do dataframe para confirmar as alterações\n",
    "df_cancer.head()"
   ]
  },
  {
   "cell_type": "code",
   "execution_count": 32,
   "metadata": {},
   "outputs": [],
   "source": [
    "# salve as alterações para mais tarde\n",
    "df_cancer.to_csv('cancer_data_edited.csv', index=False)"
   ]
  },
  {
   "cell_type": "code",
   "execution_count": null,
   "metadata": {
    "collapsed": true
   },
   "outputs": [],
   "source": []
  }
 ],
 "metadata": {
  "kernelspec": {
   "display_name": "Python 3",
   "language": "python",
   "name": "python3"
  },
  "language_info": {
   "codemirror_mode": {
    "name": "ipython",
    "version": 3
   },
   "file_extension": ".py",
   "mimetype": "text/x-python",
   "name": "python",
   "nbconvert_exporter": "python",
   "pygments_lexer": "ipython3",
   "version": "3.6.3"
  }
 },
 "nbformat": 4,
 "nbformat_minor": 2
}
